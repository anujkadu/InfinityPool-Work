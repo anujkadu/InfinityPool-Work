{
  "nbformat": 4,
  "nbformat_minor": 0,
  "metadata": {
    "colab": {
      "provenance": [],
      "authorship_tag": "ABX9TyODU6QBSZ01T2tDs5qXlDTf",
      "include_colab_link": true
    },
    "kernelspec": {
      "name": "python3",
      "display_name": "Python 3"
    },
    "language_info": {
      "name": "python"
    }
  },
  "cells": [
    {
      "cell_type": "markdown",
      "metadata": {
        "id": "view-in-github",
        "colab_type": "text"
      },
      "source": [
        "<a href=\"https://colab.research.google.com/github/anujkadu/InfinityPool-Work/blob/main/Infinity_Pool_TensorFlow_Auto.ipynb\" target=\"_parent\"><img src=\"https://colab.research.google.com/assets/colab-badge.svg\" alt=\"Open In Colab\"/></a>"
      ]
    },
    {
      "cell_type": "markdown",
      "source": [
        "# Generating Dataset"
      ],
      "metadata": {
        "id": "UdbcAZQBMLIa"
      }
    },
    {
      "cell_type": "code",
      "execution_count": 1,
      "metadata": {
        "id": "WdHgUq2bBDy0"
      },
      "outputs": [],
      "source": [
        "import numpy as np\n",
        "import pandas as pd\n",
        "import tensorflow as tf\n",
        "from sklearn.preprocessing import MinMaxScaler\n",
        "from sklearn.model_selection import train_test_split\n",
        "\n",
        "# Generate synthetic FinTech data\n",
        "np.random.seed(42)\n",
        "N = 1000\n",
        "\n",
        "df = pd.DataFrame({\n",
        "    'age': np.random.randint(21, 60, N),\n",
        "    'income': np.random.randint(20000, 150000, N),\n",
        "    'credit_score': np.random.randint(300, 900, N),\n",
        "    'loan_amount': np.random.randint(50000, 1000000, N),\n",
        "    'loan_term': np.random.choice([12, 24, 36, 48, 60], N),\n",
        "    'past_defaults': np.random.poisson(0.5, N)\n",
        "})\n",
        "\n",
        "# Define label rule\n",
        "df['will_default'] = (\n",
        "    (df['credit_score'] < 600).astype(int) |\n",
        "    ((df['loan_amount'] / df['income']) > 10).astype(int) |\n",
        "    (df['past_defaults'] > 2).astype(int)\n",
        ")\n",
        "\n",
        "# Separate features and target\n",
        "X = df.drop(\"will_default\", axis=1).values\n",
        "y = df[\"will_default\"].values\n",
        "\n",
        "# Normalize features\n",
        "scaler = MinMaxScaler()\n",
        "X_scaled = scaler.fit_transform(X)\n",
        "\n",
        "# Train/test split\n",
        "X_train, X_test, y_train, y_test = train_test_split(\n",
        "    X_scaled, y, test_size=0.2, random_state=42\n",
        ")\n",
        "\n",
        "# Convert to tensors\n",
        "X_train = tf.convert_to_tensor(X_train, dtype=tf.float32)\n",
        "X_test = tf.convert_to_tensor(X_test, dtype=tf.float32)\n",
        "y_train = tf.convert_to_tensor(y_train, dtype=tf.float32)\n",
        "y_test = tf.convert_to_tensor(y_test, dtype=tf.float32)\n"
      ]
    },
    {
      "cell_type": "markdown",
      "source": [
        "Implementing neural layers and activation function"
      ],
      "metadata": {
        "id": "qGM8oK73MO_6"
      }
    },
    {
      "cell_type": "code",
      "source": [
        "from tensorflow.keras import Sequential\n",
        "from tensorflow.keras.layers import Dense\n",
        "\n",
        "# Build model (6 input features → 8 neurons → 4 → 1)\n",
        "model = Sequential([\n",
        "    Dense(8, activation='relu', input_shape=(6,)),\n",
        "    Dense(4, activation='relu'),\n",
        "    Dense(1, activation='sigmoid')  # Output: probability of default\n",
        "])\n"
      ],
      "metadata": {
        "colab": {
          "base_uri": "https://localhost:8080/"
        },
        "id": "PDDhFJkyBP0z",
        "outputId": "8a80e5a3-204f-40f8-fd8d-c4aba1f1b110"
      },
      "execution_count": 2,
      "outputs": [
        {
          "output_type": "stream",
          "name": "stderr",
          "text": [
            "/usr/local/lib/python3.11/dist-packages/keras/src/layers/core/dense.py:87: UserWarning: Do not pass an `input_shape`/`input_dim` argument to a layer. When using Sequential models, prefer using an `Input(shape)` object as the first layer in the model instead.\n",
            "  super().__init__(activity_regularizer=activity_regularizer, **kwargs)\n"
          ]
        }
      ]
    },
    {
      "cell_type": "markdown",
      "source": [
        "# Initialise a keras model and defining Binary Cross Entropy to calculate loss as well as calculating initial loss , accuracy"
      ],
      "metadata": {
        "id": "HAZx-6DPMVlw"
      }
    },
    {
      "cell_type": "code",
      "source": [
        "from tensorflow.keras.losses import BinaryCrossentropy\n",
        "from sklearn.metrics import accuracy_score\n",
        "\n",
        "# Loss function object\n",
        "loss_fn = BinaryCrossentropy()\n",
        "\n",
        "# Predict on test set before training\n",
        "initial_preds = model(X_test)\n",
        "initial_loss = loss_fn(y_test, initial_preds).numpy()\n",
        "\n",
        "# Convert logits (probabilities) to 0/1 predictions\n",
        "initial_class_preds = tf.cast(initial_preds > 0.5, tf.int32).numpy().flatten()\n",
        "y_test_np = y_test.numpy().astype(int)\n",
        "\n",
        "# Accuracy before training\n",
        "initial_accuracy = accuracy_score(y_test_np, initial_class_preds)\n",
        "\n",
        "# Predict on a risky customer (edge case)\n",
        "new_customer = pd.DataFrame([{\n",
        "    'age': 29,\n",
        "    'income': 25000,\n",
        "    'credit_score': 490,\n",
        "    'loan_amount': 450000,\n",
        "    'loan_term': 60,\n",
        "    'past_defaults': 3\n",
        "}])\n",
        "new_customer_scaled = scaler.transform(new_customer)\n",
        "X_new = tf.constant(new_customer_scaled, dtype=tf.float32)\n",
        "\n",
        "# Probability of default before training\n",
        "prob_before = model(X_new).numpy()[0][0]\n",
        "\n",
        "# Final printouts\n",
        "print(f\"BEFORE Training → Probability of default (edge case): {prob_before:.4f}\")\n",
        "print(f\"BEFORE Training → Loss on test set: {initial_loss:.4f}\")\n",
        "print(f\"BEFORE Training → Accuracy on test set: {initial_accuracy * 100:.2f}%\")\n"
      ],
      "metadata": {
        "colab": {
          "base_uri": "https://localhost:8080/"
        },
        "id": "W7nQdFYWBTiA",
        "outputId": "8976ce7c-a00c-49a4-e04a-ff60df50842d"
      },
      "execution_count": 3,
      "outputs": [
        {
          "output_type": "stream",
          "name": "stdout",
          "text": [
            "BEFORE Training → Probability of default (edge case): 0.4607\n",
            "BEFORE Training → Loss on test set: 0.6920\n",
            "BEFORE Training → Accuracy on test set: 55.00%\n"
          ]
        },
        {
          "output_type": "stream",
          "name": "stderr",
          "text": [
            "/usr/local/lib/python3.11/dist-packages/sklearn/utils/validation.py:2732: UserWarning: X has feature names, but MinMaxScaler was fitted without feature names\n",
            "  warnings.warn(\n"
          ]
        }
      ]
    },
    {
      "cell_type": "markdown",
      "source": [
        "# Running multiple epochs"
      ],
      "metadata": {
        "id": "Zok_E3aJMoXZ"
      }
    },
    {
      "cell_type": "code",
      "source": [
        "model.compile(\n",
        "    optimizer=tf.keras.optimizers.Adam(learning_rate=0.01),\n",
        "    loss='binary_crossentropy',\n",
        "    metrics=['accuracy']\n",
        ")\n",
        "\n",
        "history = model.fit(\n",
        "    X_train,\n",
        "    y_train,\n",
        "    epochs=100,\n",
        "    batch_size=32,\n",
        "    validation_split=0.2,\n",
        "    verbose=0  # Change to 1 if you want epoch logs\n",
        ")\n",
        "print(\"Training complete.\")\n"
      ],
      "metadata": {
        "colab": {
          "base_uri": "https://localhost:8080/"
        },
        "id": "OJCX94n5BWRo",
        "outputId": "61219264-da77-4292-9203-7e1d871669c7"
      },
      "execution_count": 5,
      "outputs": [
        {
          "output_type": "stream",
          "name": "stdout",
          "text": [
            "Training complete.\n"
          ]
        }
      ]
    },
    {
      "cell_type": "code",
      "source": [
        "# Predict again on same input after training\n",
        "prob_after = model(X_new).numpy()[0][0]\n",
        "print(f\"AFTER Training → Probability of default: {prob_after:.4f}\")\n"
      ],
      "metadata": {
        "colab": {
          "base_uri": "https://localhost:8080/"
        },
        "id": "hbrulmSFBW1-",
        "outputId": "8b05d9c5-1587-4694-f834-b59de755bf17"
      },
      "execution_count": null,
      "outputs": [
        {
          "output_type": "stream",
          "name": "stdout",
          "text": [
            "✅ AFTER Training → Probability of default: 0.9958\n"
          ]
        }
      ]
    },
    {
      "cell_type": "code",
      "source": [
        "loss, accuracy = model.evaluate(X_test, y_test, verbose=0)\n",
        "print(f\"Test Loss: {loss:.4f}\")\n",
        "print(f\"Test Accuracy: {accuracy * 100:.2f}%\")\n"
      ],
      "metadata": {
        "colab": {
          "base_uri": "https://localhost:8080/"
        },
        "id": "-JR1EeWXBifp",
        "outputId": "5509fbe4-0024-4ce1-f693-d514789b8481"
      },
      "execution_count": null,
      "outputs": [
        {
          "output_type": "stream",
          "name": "stdout",
          "text": [
            "🧪 Test Loss: 0.2170\n",
            "🎯 Test Accuracy: 91.50%\n"
          ]
        }
      ]
    }
  ]
}